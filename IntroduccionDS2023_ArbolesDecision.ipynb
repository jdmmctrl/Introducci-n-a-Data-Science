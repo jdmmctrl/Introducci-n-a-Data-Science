{
  "cells": [
    {
      "cell_type": "markdown",
      "id": "38bafe76",
      "metadata": {
        "id": "38bafe76"
      },
      "source": [
        "![afi-escuela.png](data:image/png;base64,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)\n",
        "\n",
        "# Árboles de decisión\n",
        "\n",
        "\n",
        "**Verónica Ruiz Méndez - Abril 2023**\n",
        "\n",
        "Curso Introducción a Data Science - Afi Escuela\n",
        "\n",
        "*Autor*: [Verónica Ruiz Méndez](https://www.linkedin.com/in/veronica-ruiz-mendez/) "
      ]
    },
    {
      "cell_type": "markdown",
      "id": "7dcc5e5e",
      "metadata": {
        "id": "7dcc5e5e"
      },
      "source": [
        "Importamos liberías a utilizar."
      ]
    },
    {
      "cell_type": "code",
      "execution_count": 2,
      "id": "b0213073",
      "metadata": {
        "id": "b0213073"
      },
      "outputs": [
        {
          "ename": "ModuleNotFoundError",
          "evalue": "No module named 'sklearn'",
          "output_type": "error",
          "traceback": [
            "\u001b[1;31m---------------------------------------------------------------------------\u001b[0m",
            "\u001b[1;31mModuleNotFoundError\u001b[0m                       Traceback (most recent call last)",
            "Cell \u001b[1;32mIn[2], line 1\u001b[0m\n\u001b[1;32m----> 1\u001b[0m \u001b[39mfrom\u001b[39;00m \u001b[39msklearn\u001b[39;00m\u001b[39m.\u001b[39;00m\u001b[39mdatasets\u001b[39;00m \u001b[39mimport\u001b[39;00m load_iris\n\u001b[0;32m      2\u001b[0m \u001b[39mfrom\u001b[39;00m \u001b[39msklearn\u001b[39;00m\u001b[39m.\u001b[39;00m\u001b[39mtree\u001b[39;00m \u001b[39mimport\u001b[39;00m DecisionTreeClassifier, plot_tree\n\u001b[0;32m      3\u001b[0m \u001b[39mimport\u001b[39;00m \u001b[39mmatplotlib\u001b[39;00m\u001b[39m.\u001b[39;00m\u001b[39mpyplot\u001b[39;00m \u001b[39mas\u001b[39;00m \u001b[39mplt\u001b[39;00m\n",
            "\u001b[1;31mModuleNotFoundError\u001b[0m: No module named 'sklearn'"
          ]
        }
      ],
      "source": [
        "from sklearn.datasets import load_iris\n",
        "from sklearn.tree import DecisionTreeClassifier, plot_tree\n",
        "import matplotlib.pyplot as plt\n",
        "import pandas as pd"
      ]
    },
    {
      "cell_type": "markdown",
      "id": "e15c9f6d",
      "metadata": {
        "id": "e15c9f6d"
      },
      "source": [
        "Cargamos nuestro set de datos."
      ]
    },
    {
      "cell_type": "code",
      "execution_count": null,
      "id": "3176bc8c",
      "metadata": {
        "id": "3176bc8c"
      },
      "outputs": [],
      "source": [
        "iris = load_iris()"
      ]
    },
    {
      "cell_type": "code",
      "execution_count": null,
      "id": "3fd92b38",
      "metadata": {
        "colab": {
          "base_uri": "https://localhost:8080/",
          "height": 206
        },
        "id": "3fd92b38",
        "outputId": "15b37cc3-65ef-40f9-b91e-b8acb1d48a38"
      },
      "outputs": [
        {
          "data": {
            "text/html": [
              "\n",
              "  <div id=\"df-f36e711b-969f-47da-8050-bf9db0078de9\">\n",
              "    <div class=\"colab-df-container\">\n",
              "      <div>\n",
              "<style scoped>\n",
              "    .dataframe tbody tr th:only-of-type {\n",
              "        vertical-align: middle;\n",
              "    }\n",
              "\n",
              "    .dataframe tbody tr th {\n",
              "        vertical-align: top;\n",
              "    }\n",
              "\n",
              "    .dataframe thead th {\n",
              "        text-align: right;\n",
              "    }\n",
              "</style>\n",
              "<table border=\"1\" class=\"dataframe\">\n",
              "  <thead>\n",
              "    <tr style=\"text-align: right;\">\n",
              "      <th></th>\n",
              "      <th>sepal length (cm)</th>\n",
              "      <th>sepal width (cm)</th>\n",
              "      <th>petal length (cm)</th>\n",
              "      <th>petal width (cm)</th>\n",
              "    </tr>\n",
              "  </thead>\n",
              "  <tbody>\n",
              "    <tr>\n",
              "      <th>0</th>\n",
              "      <td>5.1</td>\n",
              "      <td>3.5</td>\n",
              "      <td>1.4</td>\n",
              "      <td>0.2</td>\n",
              "    </tr>\n",
              "    <tr>\n",
              "      <th>1</th>\n",
              "      <td>4.9</td>\n",
              "      <td>3.0</td>\n",
              "      <td>1.4</td>\n",
              "      <td>0.2</td>\n",
              "    </tr>\n",
              "    <tr>\n",
              "      <th>2</th>\n",
              "      <td>4.7</td>\n",
              "      <td>3.2</td>\n",
              "      <td>1.3</td>\n",
              "      <td>0.2</td>\n",
              "    </tr>\n",
              "    <tr>\n",
              "      <th>3</th>\n",
              "      <td>4.6</td>\n",
              "      <td>3.1</td>\n",
              "      <td>1.5</td>\n",
              "      <td>0.2</td>\n",
              "    </tr>\n",
              "    <tr>\n",
              "      <th>4</th>\n",
              "      <td>5.0</td>\n",
              "      <td>3.6</td>\n",
              "      <td>1.4</td>\n",
              "      <td>0.2</td>\n",
              "    </tr>\n",
              "  </tbody>\n",
              "</table>\n",
              "</div>\n",
              "      <button class=\"colab-df-convert\" onclick=\"convertToInteractive('df-f36e711b-969f-47da-8050-bf9db0078de9')\"\n",
              "              title=\"Convert this dataframe to an interactive table.\"\n",
              "              style=\"display:none;\">\n",
              "        \n",
              "  <svg xmlns=\"http://www.w3.org/2000/svg\" height=\"24px\"viewBox=\"0 0 24 24\"\n",
              "       width=\"24px\">\n",
              "    <path d=\"M0 0h24v24H0V0z\" fill=\"none\"/>\n",
              "    <path d=\"M18.56 5.44l.94 2.06.94-2.06 2.06-.94-2.06-.94-.94-2.06-.94 2.06-2.06.94zm-11 1L8.5 8.5l.94-2.06 2.06-.94-2.06-.94L8.5 2.5l-.94 2.06-2.06.94zm10 10l.94 2.06.94-2.06 2.06-.94-2.06-.94-.94-2.06-.94 2.06-2.06.94z\"/><path d=\"M17.41 7.96l-1.37-1.37c-.4-.4-.92-.59-1.43-.59-.52 0-1.04.2-1.43.59L10.3 9.45l-7.72 7.72c-.78.78-.78 2.05 0 2.83L4 21.41c.39.39.9.59 1.41.59.51 0 1.02-.2 1.41-.59l7.78-7.78 2.81-2.81c.8-.78.8-2.07 0-2.86zM5.41 20L4 18.59l7.72-7.72 1.47 1.35L5.41 20z\"/>\n",
              "  </svg>\n",
              "      </button>\n",
              "      \n",
              "  <style>\n",
              "    .colab-df-container {\n",
              "      display:flex;\n",
              "      flex-wrap:wrap;\n",
              "      gap: 12px;\n",
              "    }\n",
              "\n",
              "    .colab-df-convert {\n",
              "      background-color: #E8F0FE;\n",
              "      border: none;\n",
              "      border-radius: 50%;\n",
              "      cursor: pointer;\n",
              "      display: none;\n",
              "      fill: #1967D2;\n",
              "      height: 32px;\n",
              "      padding: 0 0 0 0;\n",
              "      width: 32px;\n",
              "    }\n",
              "\n",
              "    .colab-df-convert:hover {\n",
              "      background-color: #E2EBFA;\n",
              "      box-shadow: 0px 1px 2px rgba(60, 64, 67, 0.3), 0px 1px 3px 1px rgba(60, 64, 67, 0.15);\n",
              "      fill: #174EA6;\n",
              "    }\n",
              "\n",
              "    [theme=dark] .colab-df-convert {\n",
              "      background-color: #3B4455;\n",
              "      fill: #D2E3FC;\n",
              "    }\n",
              "\n",
              "    [theme=dark] .colab-df-convert:hover {\n",
              "      background-color: #434B5C;\n",
              "      box-shadow: 0px 1px 3px 1px rgba(0, 0, 0, 0.15);\n",
              "      filter: drop-shadow(0px 1px 2px rgba(0, 0, 0, 0.3));\n",
              "      fill: #FFFFFF;\n",
              "    }\n",
              "  </style>\n",
              "\n",
              "      <script>\n",
              "        const buttonEl =\n",
              "          document.querySelector('#df-f36e711b-969f-47da-8050-bf9db0078de9 button.colab-df-convert');\n",
              "        buttonEl.style.display =\n",
              "          google.colab.kernel.accessAllowed ? 'block' : 'none';\n",
              "\n",
              "        async function convertToInteractive(key) {\n",
              "          const element = document.querySelector('#df-f36e711b-969f-47da-8050-bf9db0078de9');\n",
              "          const dataTable =\n",
              "            await google.colab.kernel.invokeFunction('convertToInteractive',\n",
              "                                                     [key], {});\n",
              "          if (!dataTable) return;\n",
              "\n",
              "          const docLinkHtml = 'Like what you see? Visit the ' +\n",
              "            '<a target=\"_blank\" href=https://colab.research.google.com/notebooks/data_table.ipynb>data table notebook</a>'\n",
              "            + ' to learn more about interactive tables.';\n",
              "          element.innerHTML = '';\n",
              "          dataTable['output_type'] = 'display_data';\n",
              "          await google.colab.output.renderOutput(dataTable, element);\n",
              "          const docLink = document.createElement('div');\n",
              "          docLink.innerHTML = docLinkHtml;\n",
              "          element.appendChild(docLink);\n",
              "        }\n",
              "      </script>\n",
              "    </div>\n",
              "  </div>\n",
              "  "
            ],
            "text/plain": [
              "   sepal length (cm)  sepal width (cm)  petal length (cm)  petal width (cm)\n",
              "0                5.1               3.5                1.4               0.2\n",
              "1                4.9               3.0                1.4               0.2\n",
              "2                4.7               3.2                1.3               0.2\n",
              "3                4.6               3.1                1.5               0.2\n",
              "4                5.0               3.6                1.4               0.2"
            ]
          },
          "execution_count": 3,
          "metadata": {},
          "output_type": "execute_result"
        }
      ],
      "source": [
        "df = pd.DataFrame(iris.data, columns=iris.feature_names)\n",
        "df.head()"
      ]
    },
    {
      "cell_type": "code",
      "execution_count": null,
      "id": "f0a1b49d",
      "metadata": {
        "id": "f0a1b49d"
      },
      "outputs": [],
      "source": [
        "X, y = iris.data, iris.target"
      ]
    },
    {
      "cell_type": "code",
      "execution_count": null,
      "id": "0e2b16cb",
      "metadata": {
        "colab": {
          "base_uri": "https://localhost:8080/"
        },
        "id": "0e2b16cb",
        "outputId": "30efcc4c-b619-4021-8d5b-4f926b8b9506"
      },
      "outputs": [
        {
          "data": {
            "text/plain": [
              "(150, 4)"
            ]
          },
          "execution_count": 5,
          "metadata": {},
          "output_type": "execute_result"
        }
      ],
      "source": [
        "X.shape"
      ]
    },
    {
      "cell_type": "code",
      "execution_count": null,
      "id": "b29c64d8",
      "metadata": {
        "colab": {
          "base_uri": "https://localhost:8080/"
        },
        "id": "b29c64d8",
        "outputId": "813e8a4f-4ef3-4e7c-bfb6-37acbdaac503"
      },
      "outputs": [
        {
          "data": {
            "text/plain": [
              "(150,)"
            ]
          },
          "execution_count": 6,
          "metadata": {},
          "output_type": "execute_result"
        }
      ],
      "source": [
        "y.shape"
      ]
    },
    {
      "cell_type": "code",
      "execution_count": null,
      "id": "e9ed259e",
      "metadata": {
        "colab": {
          "base_uri": "https://localhost:8080/"
        },
        "id": "e9ed259e",
        "outputId": "14ddd18d-0351-43d0-b845-e2536fb0b009"
      },
      "outputs": [
        {
          "data": {
            "text/plain": [
              "array([[5.1, 3.5, 1.4, 0.2],\n",
              "       [4.9, 3. , 1.4, 0.2],\n",
              "       [4.7, 3.2, 1.3, 0.2],\n",
              "       [4.6, 3.1, 1.5, 0.2],\n",
              "       [5. , 3.6, 1.4, 0.2],\n",
              "       [5.4, 3.9, 1.7, 0.4],\n",
              "       [4.6, 3.4, 1.4, 0.3],\n",
              "       [5. , 3.4, 1.5, 0.2],\n",
              "       [4.4, 2.9, 1.4, 0.2],\n",
              "       [4.9, 3.1, 1.5, 0.1],\n",
              "       [5.4, 3.7, 1.5, 0.2],\n",
              "       [4.8, 3.4, 1.6, 0.2],\n",
              "       [4.8, 3. , 1.4, 0.1],\n",
              "       [4.3, 3. , 1.1, 0.1],\n",
              "       [5.8, 4. , 1.2, 0.2],\n",
              "       [5.7, 4.4, 1.5, 0.4],\n",
              "       [5.4, 3.9, 1.3, 0.4],\n",
              "       [5.1, 3.5, 1.4, 0.3],\n",
              "       [5.7, 3.8, 1.7, 0.3],\n",
              "       [5.1, 3.8, 1.5, 0.3],\n",
              "       [5.4, 3.4, 1.7, 0.2],\n",
              "       [5.1, 3.7, 1.5, 0.4],\n",
              "       [4.6, 3.6, 1. , 0.2],\n",
              "       [5.1, 3.3, 1.7, 0.5],\n",
              "       [4.8, 3.4, 1.9, 0.2],\n",
              "       [5. , 3. , 1.6, 0.2],\n",
              "       [5. , 3.4, 1.6, 0.4],\n",
              "       [5.2, 3.5, 1.5, 0.2],\n",
              "       [5.2, 3.4, 1.4, 0.2],\n",
              "       [4.7, 3.2, 1.6, 0.2],\n",
              "       [4.8, 3.1, 1.6, 0.2],\n",
              "       [5.4, 3.4, 1.5, 0.4],\n",
              "       [5.2, 4.1, 1.5, 0.1],\n",
              "       [5.5, 4.2, 1.4, 0.2],\n",
              "       [4.9, 3.1, 1.5, 0.2],\n",
              "       [5. , 3.2, 1.2, 0.2],\n",
              "       [5.5, 3.5, 1.3, 0.2],\n",
              "       [4.9, 3.6, 1.4, 0.1],\n",
              "       [4.4, 3. , 1.3, 0.2],\n",
              "       [5.1, 3.4, 1.5, 0.2],\n",
              "       [5. , 3.5, 1.3, 0.3],\n",
              "       [4.5, 2.3, 1.3, 0.3],\n",
              "       [4.4, 3.2, 1.3, 0.2],\n",
              "       [5. , 3.5, 1.6, 0.6],\n",
              "       [5.1, 3.8, 1.9, 0.4],\n",
              "       [4.8, 3. , 1.4, 0.3],\n",
              "       [5.1, 3.8, 1.6, 0.2],\n",
              "       [4.6, 3.2, 1.4, 0.2],\n",
              "       [5.3, 3.7, 1.5, 0.2],\n",
              "       [5. , 3.3, 1.4, 0.2],\n",
              "       [7. , 3.2, 4.7, 1.4],\n",
              "       [6.4, 3.2, 4.5, 1.5],\n",
              "       [6.9, 3.1, 4.9, 1.5],\n",
              "       [5.5, 2.3, 4. , 1.3],\n",
              "       [6.5, 2.8, 4.6, 1.5],\n",
              "       [5.7, 2.8, 4.5, 1.3],\n",
              "       [6.3, 3.3, 4.7, 1.6],\n",
              "       [4.9, 2.4, 3.3, 1. ],\n",
              "       [6.6, 2.9, 4.6, 1.3],\n",
              "       [5.2, 2.7, 3.9, 1.4],\n",
              "       [5. , 2. , 3.5, 1. ],\n",
              "       [5.9, 3. , 4.2, 1.5],\n",
              "       [6. , 2.2, 4. , 1. ],\n",
              "       [6.1, 2.9, 4.7, 1.4],\n",
              "       [5.6, 2.9, 3.6, 1.3],\n",
              "       [6.7, 3.1, 4.4, 1.4],\n",
              "       [5.6, 3. , 4.5, 1.5],\n",
              "       [5.8, 2.7, 4.1, 1. ],\n",
              "       [6.2, 2.2, 4.5, 1.5],\n",
              "       [5.6, 2.5, 3.9, 1.1],\n",
              "       [5.9, 3.2, 4.8, 1.8],\n",
              "       [6.1, 2.8, 4. , 1.3],\n",
              "       [6.3, 2.5, 4.9, 1.5],\n",
              "       [6.1, 2.8, 4.7, 1.2],\n",
              "       [6.4, 2.9, 4.3, 1.3],\n",
              "       [6.6, 3. , 4.4, 1.4],\n",
              "       [6.8, 2.8, 4.8, 1.4],\n",
              "       [6.7, 3. , 5. , 1.7],\n",
              "       [6. , 2.9, 4.5, 1.5],\n",
              "       [5.7, 2.6, 3.5, 1. ],\n",
              "       [5.5, 2.4, 3.8, 1.1],\n",
              "       [5.5, 2.4, 3.7, 1. ],\n",
              "       [5.8, 2.7, 3.9, 1.2],\n",
              "       [6. , 2.7, 5.1, 1.6],\n",
              "       [5.4, 3. , 4.5, 1.5],\n",
              "       [6. , 3.4, 4.5, 1.6],\n",
              "       [6.7, 3.1, 4.7, 1.5],\n",
              "       [6.3, 2.3, 4.4, 1.3],\n",
              "       [5.6, 3. , 4.1, 1.3],\n",
              "       [5.5, 2.5, 4. , 1.3],\n",
              "       [5.5, 2.6, 4.4, 1.2],\n",
              "       [6.1, 3. , 4.6, 1.4],\n",
              "       [5.8, 2.6, 4. , 1.2],\n",
              "       [5. , 2.3, 3.3, 1. ],\n",
              "       [5.6, 2.7, 4.2, 1.3],\n",
              "       [5.7, 3. , 4.2, 1.2],\n",
              "       [5.7, 2.9, 4.2, 1.3],\n",
              "       [6.2, 2.9, 4.3, 1.3],\n",
              "       [5.1, 2.5, 3. , 1.1],\n",
              "       [5.7, 2.8, 4.1, 1.3],\n",
              "       [6.3, 3.3, 6. , 2.5],\n",
              "       [5.8, 2.7, 5.1, 1.9],\n",
              "       [7.1, 3. , 5.9, 2.1],\n",
              "       [6.3, 2.9, 5.6, 1.8],\n",
              "       [6.5, 3. , 5.8, 2.2],\n",
              "       [7.6, 3. , 6.6, 2.1],\n",
              "       [4.9, 2.5, 4.5, 1.7],\n",
              "       [7.3, 2.9, 6.3, 1.8],\n",
              "       [6.7, 2.5, 5.8, 1.8],\n",
              "       [7.2, 3.6, 6.1, 2.5],\n",
              "       [6.5, 3.2, 5.1, 2. ],\n",
              "       [6.4, 2.7, 5.3, 1.9],\n",
              "       [6.8, 3. , 5.5, 2.1],\n",
              "       [5.7, 2.5, 5. , 2. ],\n",
              "       [5.8, 2.8, 5.1, 2.4],\n",
              "       [6.4, 3.2, 5.3, 2.3],\n",
              "       [6.5, 3. , 5.5, 1.8],\n",
              "       [7.7, 3.8, 6.7, 2.2],\n",
              "       [7.7, 2.6, 6.9, 2.3],\n",
              "       [6. , 2.2, 5. , 1.5],\n",
              "       [6.9, 3.2, 5.7, 2.3],\n",
              "       [5.6, 2.8, 4.9, 2. ],\n",
              "       [7.7, 2.8, 6.7, 2. ],\n",
              "       [6.3, 2.7, 4.9, 1.8],\n",
              "       [6.7, 3.3, 5.7, 2.1],\n",
              "       [7.2, 3.2, 6. , 1.8],\n",
              "       [6.2, 2.8, 4.8, 1.8],\n",
              "       [6.1, 3. , 4.9, 1.8],\n",
              "       [6.4, 2.8, 5.6, 2.1],\n",
              "       [7.2, 3. , 5.8, 1.6],\n",
              "       [7.4, 2.8, 6.1, 1.9],\n",
              "       [7.9, 3.8, 6.4, 2. ],\n",
              "       [6.4, 2.8, 5.6, 2.2],\n",
              "       [6.3, 2.8, 5.1, 1.5],\n",
              "       [6.1, 2.6, 5.6, 1.4],\n",
              "       [7.7, 3. , 6.1, 2.3],\n",
              "       [6.3, 3.4, 5.6, 2.4],\n",
              "       [6.4, 3.1, 5.5, 1.8],\n",
              "       [6. , 3. , 4.8, 1.8],\n",
              "       [6.9, 3.1, 5.4, 2.1],\n",
              "       [6.7, 3.1, 5.6, 2.4],\n",
              "       [6.9, 3.1, 5.1, 2.3],\n",
              "       [5.8, 2.7, 5.1, 1.9],\n",
              "       [6.8, 3.2, 5.9, 2.3],\n",
              "       [6.7, 3.3, 5.7, 2.5],\n",
              "       [6.7, 3. , 5.2, 2.3],\n",
              "       [6.3, 2.5, 5. , 1.9],\n",
              "       [6.5, 3. , 5.2, 2. ],\n",
              "       [6.2, 3.4, 5.4, 2.3],\n",
              "       [5.9, 3. , 5.1, 1.8]])"
            ]
          },
          "execution_count": 7,
          "metadata": {},
          "output_type": "execute_result"
        }
      ],
      "source": [
        "X"
      ]
    },
    {
      "cell_type": "code",
      "execution_count": null,
      "id": "0b7a3a4e",
      "metadata": {
        "colab": {
          "base_uri": "https://localhost:8080/"
        },
        "id": "0b7a3a4e",
        "outputId": "b8f3e512-ef77-43d8-a2eb-4e7126781fd3"
      },
      "outputs": [
        {
          "data": {
            "text/plain": [
              "array([0, 0, 0, 0, 0, 0, 0, 0, 0, 0, 0, 0, 0, 0, 0, 0, 0, 0, 0, 0, 0, 0,\n",
              "       0, 0, 0, 0, 0, 0, 0, 0, 0, 0, 0, 0, 0, 0, 0, 0, 0, 0, 0, 0, 0, 0,\n",
              "       0, 0, 0, 0, 0, 0, 1, 1, 1, 1, 1, 1, 1, 1, 1, 1, 1, 1, 1, 1, 1, 1,\n",
              "       1, 1, 1, 1, 1, 1, 1, 1, 1, 1, 1, 1, 1, 1, 1, 1, 1, 1, 1, 1, 1, 1,\n",
              "       1, 1, 1, 1, 1, 1, 1, 1, 1, 1, 1, 1, 2, 2, 2, 2, 2, 2, 2, 2, 2, 2,\n",
              "       2, 2, 2, 2, 2, 2, 2, 2, 2, 2, 2, 2, 2, 2, 2, 2, 2, 2, 2, 2, 2, 2,\n",
              "       2, 2, 2, 2, 2, 2, 2, 2, 2, 2, 2, 2, 2, 2, 2, 2, 2, 2])"
            ]
          },
          "execution_count": 8,
          "metadata": {},
          "output_type": "execute_result"
        }
      ],
      "source": [
        "y"
      ]
    },
    {
      "cell_type": "markdown",
      "id": "f5f994c2",
      "metadata": {
        "id": "f5f994c2"
      },
      "source": [
        "Entrenamos nuestro árbol de clasificación sobre nuestros datos."
      ]
    },
    {
      "cell_type": "code",
      "execution_count": null,
      "id": "b4f0b411",
      "metadata": {
        "id": "b4f0b411"
      },
      "outputs": [],
      "source": [
        "clf = DecisionTreeClassifier(max_depth = 2, random_state = 0)\n",
        "clf = clf.fit(X, y)"
      ]
    },
    {
      "cell_type": "markdown",
      "id": "78ad1f7f",
      "metadata": {
        "id": "78ad1f7f"
      },
      "source": [
        "Comprobamos que tenemos 3 clases (setosa, virsicolor y virginica)."
      ]
    },
    {
      "cell_type": "code",
      "execution_count": null,
      "id": "0f616a4b",
      "metadata": {
        "colab": {
          "base_uri": "https://localhost:8080/"
        },
        "id": "0f616a4b",
        "outputId": "c9e6c543-834f-4440-d6ca-318efb98f2fb"
      },
      "outputs": [
        {
          "data": {
            "text/plain": [
              "3"
            ]
          },
          "execution_count": 10,
          "metadata": {},
          "output_type": "execute_result"
        }
      ],
      "source": [
        "clf.n_classes_"
      ]
    },
    {
      "cell_type": "markdown",
      "id": "9789887b",
      "metadata": {
        "id": "9789887b"
      },
      "source": [
        "Realizamos el gráfico del árbol de decisión."
      ]
    },
    {
      "cell_type": "code",
      "execution_count": null,
      "id": "2a5a01cf",
      "metadata": {
        "colab": {
          "base_uri": "https://localhost:8080/",
          "height": 303
        },
        "id": "2a5a01cf",
        "outputId": "de1a5aae-1b38-4e61-fa7f-46b7eef7d150"
      },
      "outputs": [
        {
          "data": {
            "image/png": "[encoded data removed]",
            "text/plain": [
              "<Figure size 720x360 with 1 Axes>"
            ]
          },
          "metadata": {
            "needs_background": "light"
          },
          "output_type": "display_data"
        }
      ],
      "source": [
        "plt.figure(figsize=(10,5))\n",
        "plot_tree(clf,\n",
        "               feature_names = iris.feature_names, \n",
        "               class_names=['setosa', 'virsicolor', 'virginica'],\n",
        "               filled = True)\n",
        "plt.show()"
      ]
    },
    {
      "cell_type": "code",
      "execution_count": null,
      "id": "16853a81",
      "metadata": {
        "id": "16853a81"
      },
      "outputs": [],
      "source": []
    }
  ],
  "metadata": {
    "colab": {
      "provenance": []
    },
    "kernelspec": {
      "display_name": "Python 3",
      "language": "python",
      "name": "python3"
    },
    "language_info": {
      "codemirror_mode": {
        "name": "ipython",
        "version": 3
      },
      "file_extension": ".py",
      "mimetype": "text/x-python",
      "name": "python",
      "nbconvert_exporter": "python",
      "pygments_lexer": "ipython3",
      "version": "3.11.3"
    }
  },
  "nbformat": 4,
  "nbformat_minor": 5
}
